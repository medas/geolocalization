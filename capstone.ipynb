{
 "cells": [
  {
   "cell_type": "markdown",
   "metadata": {},
   "source": [
    "### Introduction/Business Problem"
   ]
  },
  {
   "cell_type": "markdown",
   "metadata": {},
   "source": [
    "Lisbon is the capital of Portugal, a member state of the European Union. Lisbon is also a main cultural center with a large number of schools and universities spread across the city. Most of the city colleges are spread around the city. A small group of investors is looking to start a new concept of Café aimed addressed to a younger audience. But they don't know much about the spread of the younger population around the city or where are the most interesting places to locate their first shops."
   ]
  },
  {
   "cell_type": "markdown",
   "metadata": {},
   "source": [
    "So they will scouting for places with a large population of young adults. They will also look into to procure locations for the cafés in neighborhoods with a higher standard of living based on real estate data."
   ]
  },
  {
   "cell_type": "markdown",
   "metadata": {},
   "source": [
    "#### Data"
   ]
  },
  {
   "cell_type": "markdown",
   "metadata": {},
   "source": [
    "I will be using Foursquare data and also some public available information for m the national data authority of Portugal where Lisbon is located.\n",
    "\n",
    "I will use the Statiscs Portugal (ine.pt) site to collect the relevant data regarding population age in the city of Lisbon,  and the medium renting cost in the city.\n",
    "\n",
    "\n",
    "##### Sources:\n",
    "\n",
    "https://foursquare.com\n",
    "\n",
    "https://www.ine.pt/xportal/xmain?xpid=INE&xpgid=ine_indicadores&indOcorrCod=0006350&selTab=tab0&xlang=en\n",
    "\n",
    "https://www.ine.pt/xportal/xmain?xpid=INE&xpgid=ine_indicadores&indOcorrCod=0009492&contexto=bd&selTab=tab2&xlang=en"
   ]
  },
  {
   "cell_type": "code",
   "execution_count": null,
   "metadata": {},
   "outputs": [],
   "source": []
  }
 ],
 "metadata": {
  "kernelspec": {
   "display_name": "Python",
   "language": "python",
   "name": "conda-env-python-py"
  },
  "language_info": {
   "codemirror_mode": {
    "name": "ipython",
    "version": 3
   },
   "file_extension": ".py",
   "mimetype": "text/x-python",
   "name": "python",
   "nbconvert_exporter": "python",
   "pygments_lexer": "ipython3",
   "version": "3.6.10"
  }
 },
 "nbformat": 4,
 "nbformat_minor": 4
}
